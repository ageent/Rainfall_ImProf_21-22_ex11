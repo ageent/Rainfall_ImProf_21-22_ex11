{
  "nbformat": 4,
  "nbformat_minor": 0,
  "metadata": {
    "colab": {
      "name": "ImP_21-22_ex11.ipynb",
      "provenance": [],
      "authorship_tag": "ABX9TyNDIr5w0A6UugzXtrPiiTVl"
    },
    "kernelspec": {
      "name": "python3",
      "display_name": "Python 3"
    },
    "language_info": {
      "name": "python"
    }
  },
  "cells": [
    {
      "cell_type": "code",
      "source": [
        "# Python ≥3.5 is required\n",
        "import sys\n",
        "assert sys.version_info >= (3, 5)\n",
        "\n",
        "# Scikit-Learn ≥0.20 is required\n",
        "import sklearn\n",
        "assert sklearn.__version__ >= \"0.20\"\n",
        "\n",
        "import numpy as np\n",
        "import pandas as pd\n",
        "import matplotlib as mpl\n",
        "import matplotlib.pyplot as plt\n",
        "import seaborn as sns\n",
        "\n",
        "%matplotlib inline\n",
        "sns.set()\n",
        "np.random.seed(42)"
      ],
      "metadata": {
        "id": "h9yxJcxp_odt"
      },
      "execution_count": 1,
      "outputs": []
    },
    {
      "cell_type": "code",
      "source": [
        "# to save data or images to GoogleDrive\n",
        "from google.colab import drive\n",
        "ROOT_GD = \"/content/drive\"\n",
        "STORAGE_PATH = ROOT_GD + \"/My Drive/Colab Notebooks/ImP_21-22_ex11/\"\n",
        "drive.mount(ROOT_GD)\n",
        "\n",
        "def save_data(prefix, file_name, data_frame):\n",
        "  path = STORAGE_PATH + prefix + file_name\n",
        "  data_frame.to_csv(path)\n",
        "\n",
        "def save_pred(file_name, data_frame):\n",
        "  save_data(\"predictions/\", file_name, data_frame)\n",
        "def save_trans_data(file_name, data_frame):\n",
        "  save_data(\"transformed/\", file_name, data_frame)\n",
        "\n",
        "\"\"\"\n",
        "fig, ax = plt.subplots()\n",
        "ax.plot(data)\n",
        "save_fig(fig, \"fig_name\")\n",
        "\"\"\"\n",
        "def save_fig(fig, fig_id, tight_layout=True, fig_extension=\"png\", resolution=300):\n",
        "    path = STORAGE_PATH + \"img/\" + fig_id + \".\" + fig_extension\n",
        "    print(\"Saving figure\", fig_id)\n",
        "    if tight_layout:\n",
        "        fig.tight_layout()\n",
        "    fig.savefig(path, format=fig_extension, dpi=resolution)"
      ],
      "metadata": {
        "colab": {
          "base_uri": "https://localhost:8080/"
        },
        "id": "zIr8cYS4B10Q",
        "outputId": "b045f083-d0d7-421d-bc9c-1964fe2c3fef"
      },
      "execution_count": 32,
      "outputs": [
        {
          "output_type": "stream",
          "name": "stdout",
          "text": [
            "Drive already mounted at /content/drive; to attempt to forcibly remount, call drive.mount(\"/content/drive\", force_remount=True).\n"
          ]
        }
      ]
    },
    {
      "cell_type": "code",
      "execution_count": 4,
      "metadata": {
        "id": "n5zKpPBENYap"
      },
      "outputs": [],
      "source": [
        "# get the data from the repository\n",
        "USER = 'ageent'\n",
        "REPO = 'Rainfall_ImProf_21-22_ex11'\n",
        "PATH_TO_SRC = 'main/data/src/train_data.csv'\n",
        "\n",
        "def get_github_data(path_to_file):\n",
        "  url = \"https://raw.githubusercontent.com/{}/{}/{}\"\\\n",
        "                            .format(USER, REPO, path_to_file)\n",
        "  return pd.read_csv(url)\n",
        "\n",
        "DATA = get_github_data(PATH_TO_SRC)"
      ]
    }
  ]
}