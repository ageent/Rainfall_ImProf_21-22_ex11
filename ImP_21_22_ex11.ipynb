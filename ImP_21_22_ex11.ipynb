{
 "nbformat": 4,
 "nbformat_minor": 0,
 "metadata": {
  "colab": {
   "name": "ImP_21-22_ex11.ipynb",
   "provenance": [],
   "authorship_tag": "ABX9TyNDIr5w0A6UugzXtrPiiTVl"
  },
  "kernelspec": {
   "name": "python3",
   "display_name": "Python 3"
  },
  "language_info": {
   "name": "python"
  }
 },
 "cells": [
  {
   "cell_type": "code",
   "source": [
    "# Python ≥3.5 is required\n",
    "import sys\n",
    "assert sys.version_info >= (3, 5)\n",
    "\n",
    "# Scikit-Learn ≥0.20 is required\n",
    "import sklearn\n",
    "assert sklearn.__version__ >= \"0.20\"\n",
    "\n",
    "import numpy as np\n",
    "import pandas as pd\n",
    "import matplotlib as mpl\n",
    "import matplotlib.pyplot as plt\n",
    "import seaborn as sns\n",
    "\n",
    "%matplotlib inline\n",
    "sns.set()\n",
    "np.random.seed(42)"
   ],
   "metadata": {
    "id": "h9yxJcxp_odt"
   },
   "execution_count": 3,
   "outputs": []
  },
  {
   "cell_type": "code",
   "source": [
    "# to save data or images\n",
    "if \"google.colab\" in sys.modules:\n",
    "    from google.colab import drive\n",
    "    ROOT_GD = \"/content/drive\"\n",
    "    STORAGE_PATH = ROOT_GD + \"/My Drive/Colab Notebooks/ImP_21-22_ex11/\"\n",
    "    drive.mount(ROOT_GD)\n",
    "else:   # local host\n",
    "    STORAGE_PATH = \"data/\"\n",
    "\n",
    "def save_data(prefix, file_name, data_frame):\n",
    "    path = STORAGE_PATH + prefix + file_name\n",
    "    data_frame.to_csv(path)\n",
    "\n",
    "def save_pred(file_name, data_frame):\n",
    "    save_data(\"predictions/\", file_name, data_frame)\n",
    "def save_trans_data(file_name, data_frame):\n",
    "    save_data(\"transformed/\", file_name, data_frame)\n",
    "\n",
    "\"\"\"\n",
    "fig, ax = plt.subplots()\n",
    "ax.plot(data)\n",
    "save_fig(fig, \"fig_name\")\n",
    "\"\"\"\n",
    "def save_fig(fig, fig_id, tight_layout=True, fig_extension=\"png\", resolution=300):\n",
    "    path = STORAGE_PATH + \"img/\" + fig_id + \".\" + fig_extension\n",
    "    print(\"Saving figure\", fig_id)\n",
    "    if tight_layout:\n",
    "        fig.tight_layout()\n",
    "    fig.savefig(path, format=fig_extension, dpi=resolution)"
   ],
   "metadata": {
    "colab": {
     "base_uri": "https://localhost:8080/"
    },
    "id": "zIr8cYS4B10Q",
    "outputId": "b045f083-d0d7-421d-bc9c-1964fe2c3fef"
   },
   "execution_count": 4,
   "outputs": []
  },
  {
   "cell_type": "code",
   "execution_count": 5,
   "metadata": {
    "id": "n5zKpPBENYap"
   },
   "outputs": [],
   "source": [
    "# get the data\n",
    "TRAIN_FILE = \"train_data.csv\"\n",
    "\n",
    "def get_github_data(path_to_file):\n",
    "    url = \"https://raw.githubusercontent.com/{}/{}/{}\"\\\n",
    "                            .format(USER, REPO, path_to_file)\n",
    "    return pd.read_csv(url)\n",
    "\n",
    "def get_localhost_data(file_name):\n",
    "    path = \"data/src/\" + file_name\n",
    "    return pd.read_csv(path)\n",
    "\n",
    "if \"google.colab\" in sys.modules:\n",
    "    USER = \"ageent\"\n",
    "    REPO = \"Rainfall_ImProf_21-22_ex11\"\n",
    "    PATH_TO_SRC = \"main/data/src/\" + TRAIN_FILE\n",
    "    DATA = get_github_data(PATH_TO_SRC)\n",
    "else:   # local host\n",
    "    DATA = get_localhost_data(TRAIN_FILE)"
   ]
  },
  {
   "cell_type": "code",
   "execution_count": 6,
   "outputs": [
    {
     "data": {
      "text/plain": "        Location  MinTemp  MaxTemp  Rainfall  Evaporation  Sunshine  \\\n0       Brisbane     13.7     23.6       0.0          5.0       9.6   \n1         Sydney     15.4     21.2      61.2          5.8       2.7   \n2       Richmond     16.8     30.9       1.0          NaN       NaN   \n3  NorfolkIsland     13.9     17.1       0.2          3.8       8.9   \n4       Dartmoor      7.4     14.4       1.8          2.4       8.3   \n\n  WindGustDir  WindGustSpeed WindDir9am WindDir3pm  ...  Humidity9am  \\\n0         SSE           24.0        SSW        ESE  ...         65.0   \n1           S           43.0        WSW        SSW  ...         91.0   \n2          NE           35.0        NNW         NE  ...         80.0   \n3          SE           37.0         SE        SSE  ...         56.0   \n4         SSW           37.0        NaN         SW  ...        100.0   \n\n   Humidity3pm  Pressure9am  Pressure3pm  Cloud9am  Cloud3pm  Temp9am  \\\n0         53.0       1028.4       1026.7       1.0       1.0     18.3   \n1         65.0       1018.8       1016.5       8.0       7.0     15.6   \n2         38.0       1020.4       1013.2       1.0       NaN     19.6   \n3         63.0       1027.7       1026.1       3.0       1.0     15.3   \n4         58.0       1026.0       1026.1       NaN       NaN      9.1   \n\n   Temp3pm  RainToday  RainTomorrow  \n0     22.3          0             0  \n1     20.7          1             1  \n2     30.0          0             0  \n3     15.8          0             0  \n4     13.5          1             0  \n\n[5 rows x 22 columns]",
      "text/html": "<div>\n<style scoped>\n    .dataframe tbody tr th:only-of-type {\n        vertical-align: middle;\n    }\n\n    .dataframe tbody tr th {\n        vertical-align: top;\n    }\n\n    .dataframe thead th {\n        text-align: right;\n    }\n</style>\n<table border=\"1\" class=\"dataframe\">\n  <thead>\n    <tr style=\"text-align: right;\">\n      <th></th>\n      <th>Location</th>\n      <th>MinTemp</th>\n      <th>MaxTemp</th>\n      <th>Rainfall</th>\n      <th>Evaporation</th>\n      <th>Sunshine</th>\n      <th>WindGustDir</th>\n      <th>WindGustSpeed</th>\n      <th>WindDir9am</th>\n      <th>WindDir3pm</th>\n      <th>...</th>\n      <th>Humidity9am</th>\n      <th>Humidity3pm</th>\n      <th>Pressure9am</th>\n      <th>Pressure3pm</th>\n      <th>Cloud9am</th>\n      <th>Cloud3pm</th>\n      <th>Temp9am</th>\n      <th>Temp3pm</th>\n      <th>RainToday</th>\n      <th>RainTomorrow</th>\n    </tr>\n  </thead>\n  <tbody>\n    <tr>\n      <th>0</th>\n      <td>Brisbane</td>\n      <td>13.7</td>\n      <td>23.6</td>\n      <td>0.0</td>\n      <td>5.0</td>\n      <td>9.6</td>\n      <td>SSE</td>\n      <td>24.0</td>\n      <td>SSW</td>\n      <td>ESE</td>\n      <td>...</td>\n      <td>65.0</td>\n      <td>53.0</td>\n      <td>1028.4</td>\n      <td>1026.7</td>\n      <td>1.0</td>\n      <td>1.0</td>\n      <td>18.3</td>\n      <td>22.3</td>\n      <td>0</td>\n      <td>0</td>\n    </tr>\n    <tr>\n      <th>1</th>\n      <td>Sydney</td>\n      <td>15.4</td>\n      <td>21.2</td>\n      <td>61.2</td>\n      <td>5.8</td>\n      <td>2.7</td>\n      <td>S</td>\n      <td>43.0</td>\n      <td>WSW</td>\n      <td>SSW</td>\n      <td>...</td>\n      <td>91.0</td>\n      <td>65.0</td>\n      <td>1018.8</td>\n      <td>1016.5</td>\n      <td>8.0</td>\n      <td>7.0</td>\n      <td>15.6</td>\n      <td>20.7</td>\n      <td>1</td>\n      <td>1</td>\n    </tr>\n    <tr>\n      <th>2</th>\n      <td>Richmond</td>\n      <td>16.8</td>\n      <td>30.9</td>\n      <td>1.0</td>\n      <td>NaN</td>\n      <td>NaN</td>\n      <td>NE</td>\n      <td>35.0</td>\n      <td>NNW</td>\n      <td>NE</td>\n      <td>...</td>\n      <td>80.0</td>\n      <td>38.0</td>\n      <td>1020.4</td>\n      <td>1013.2</td>\n      <td>1.0</td>\n      <td>NaN</td>\n      <td>19.6</td>\n      <td>30.0</td>\n      <td>0</td>\n      <td>0</td>\n    </tr>\n    <tr>\n      <th>3</th>\n      <td>NorfolkIsland</td>\n      <td>13.9</td>\n      <td>17.1</td>\n      <td>0.2</td>\n      <td>3.8</td>\n      <td>8.9</td>\n      <td>SE</td>\n      <td>37.0</td>\n      <td>SE</td>\n      <td>SSE</td>\n      <td>...</td>\n      <td>56.0</td>\n      <td>63.0</td>\n      <td>1027.7</td>\n      <td>1026.1</td>\n      <td>3.0</td>\n      <td>1.0</td>\n      <td>15.3</td>\n      <td>15.8</td>\n      <td>0</td>\n      <td>0</td>\n    </tr>\n    <tr>\n      <th>4</th>\n      <td>Dartmoor</td>\n      <td>7.4</td>\n      <td>14.4</td>\n      <td>1.8</td>\n      <td>2.4</td>\n      <td>8.3</td>\n      <td>SSW</td>\n      <td>37.0</td>\n      <td>NaN</td>\n      <td>SW</td>\n      <td>...</td>\n      <td>100.0</td>\n      <td>58.0</td>\n      <td>1026.0</td>\n      <td>1026.1</td>\n      <td>NaN</td>\n      <td>NaN</td>\n      <td>9.1</td>\n      <td>13.5</td>\n      <td>1</td>\n      <td>0</td>\n    </tr>\n  </tbody>\n</table>\n<p>5 rows × 22 columns</p>\n</div>"
     },
     "execution_count": 6,
     "metadata": {},
     "output_type": "execute_result"
    }
   ],
   "source": [
    "DATA.head()"
   ],
   "metadata": {
    "collapsed": false,
    "pycharm": {
     "name": "#%%\n"
    }
   }
  },
  {
   "cell_type": "code",
   "execution_count": 7,
   "outputs": [
    {
     "data": {
      "text/plain": "4"
     },
     "execution_count": 7,
     "metadata": {},
     "output_type": "execute_result"
    }
   ],
   "source": [
    "1 + 1 + 2"
   ],
   "metadata": {
    "collapsed": false,
    "pycharm": {
     "name": "#%%\n"
    }
   }
  }
 ]
}